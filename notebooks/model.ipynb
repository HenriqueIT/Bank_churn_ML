{
 "cells": [
  {
   "cell_type": "code",
   "execution_count": 1,
   "metadata": {},
   "outputs": [],
   "source": [
    "import pandas as pd"
   ]
  },
  {
   "cell_type": "code",
   "execution_count": 4,
   "metadata": {},
   "outputs": [],
   "source": [
    "data_path = \"../data/Churn_Modelling.csv\"\n",
    "df_teste = pd.read_csv(data_path)\n",
    "\n",
    "model = pd.read_pickle(\"../model/churn_model.pkl\")\n",
    "\n",
    "pred_prob = model['model'].predict_proba(df_teste[model['features']])\n",
    "prob_churn = pred_prob[:, 1]\n",
    "df_teste['prob_churn'] = prob_churn"
   ]
  },
  {
   "cell_type": "code",
   "execution_count": 10,
   "metadata": {},
   "outputs": [
    {
     "data": {
      "text/html": [
       "<div>\n",
       "<style scoped>\n",
       "    .dataframe tbody tr th:only-of-type {\n",
       "        vertical-align: middle;\n",
       "    }\n",
       "\n",
       "    .dataframe tbody tr th {\n",
       "        vertical-align: top;\n",
       "    }\n",
       "\n",
       "    .dataframe thead th {\n",
       "        text-align: right;\n",
       "    }\n",
       "</style>\n",
       "<table border=\"1\" class=\"dataframe\">\n",
       "  <thead>\n",
       "    <tr style=\"text-align: right;\">\n",
       "      <th></th>\n",
       "      <th>risk_level</th>\n",
       "      <th>Exited</th>\n",
       "      <th>count</th>\n",
       "    </tr>\n",
       "  </thead>\n",
       "  <tbody>\n",
       "    <tr>\n",
       "      <th>0</th>\n",
       "      <td>High Risk</td>\n",
       "      <td>1</td>\n",
       "      <td>1942</td>\n",
       "    </tr>\n",
       "    <tr>\n",
       "      <th>1</th>\n",
       "      <td>High Risk</td>\n",
       "      <td>0</td>\n",
       "      <td>54</td>\n",
       "    </tr>\n",
       "    <tr>\n",
       "      <th>2</th>\n",
       "      <td>Intermediate Risk</td>\n",
       "      <td>0</td>\n",
       "      <td>379</td>\n",
       "    </tr>\n",
       "    <tr>\n",
       "      <th>3</th>\n",
       "      <td>Intermediate Risk</td>\n",
       "      <td>1</td>\n",
       "      <td>74</td>\n",
       "    </tr>\n",
       "    <tr>\n",
       "      <th>4</th>\n",
       "      <td>Low Risk</td>\n",
       "      <td>0</td>\n",
       "      <td>7530</td>\n",
       "    </tr>\n",
       "    <tr>\n",
       "      <th>5</th>\n",
       "      <td>Low Risk</td>\n",
       "      <td>1</td>\n",
       "      <td>21</td>\n",
       "    </tr>\n",
       "  </tbody>\n",
       "</table>\n",
       "</div>"
      ],
      "text/plain": [
       "          risk_level  Exited  count\n",
       "0          High Risk       1   1942\n",
       "1          High Risk       0     54\n",
       "2  Intermediate Risk       0    379\n",
       "3  Intermediate Risk       1     74\n",
       "4           Low Risk       0   7530\n",
       "5           Low Risk       1     21"
      ]
     },
     "execution_count": 10,
     "metadata": {},
     "output_type": "execute_result"
    }
   ],
   "source": [
    "def risk_level(prob):\n",
    "        high_risk_prob = 0.7\n",
    "        intermediate_risk_prob = 0.3\n",
    "\n",
    "        if prob > high_risk_prob:\n",
    "            return 'High Risk'\n",
    "        elif intermediate_risk_prob < prob <= high_risk_prob:\n",
    "            return 'Intermediate Risk'\n",
    "        else:\n",
    "            return 'Low Risk'\n",
    "    \n",
    "# Apply the risk classification to the 'prob_churn' column\n",
    "df_teste['risk_level'] = df_teste['prob_churn'].apply(risk_level)\n",
    "\n",
    "pd.DataFrame(df_teste[['risk_level', 'Exited']].value_counts()).sort_values('risk_level').reset_index()"
   ]
  }
 ],
 "metadata": {
  "kernelspec": {
   "display_name": "churn_env",
   "language": "python",
   "name": "python3"
  },
  "language_info": {
   "codemirror_mode": {
    "name": "ipython",
    "version": 3
   },
   "file_extension": ".py",
   "mimetype": "text/x-python",
   "name": "python",
   "nbconvert_exporter": "python",
   "pygments_lexer": "ipython3",
   "version": "3.12.1"
  }
 },
 "nbformat": 4,
 "nbformat_minor": 2
}
